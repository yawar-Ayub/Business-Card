{
  "nbformat": 4,
  "nbformat_minor": 0,
  "metadata": {
    "colab": {
      "provenance": [],
      "authorship_tag": "ABX9TyMMpkWIROcb2M5O7560VjyG",
      "include_colab_link": true
    },
    "kernelspec": {
      "name": "python3",
      "display_name": "Python 3"
    },
    "language_info": {
      "name": "python"
    }
  },
  "cells": [
    {
      "cell_type": "markdown",
      "metadata": {
        "id": "view-in-github",
        "colab_type": "text"
      },
      "source": [
        "<a href=\"https://colab.research.google.com/github/yawar-Ayub/Business-Card/blob/main/Neural_Network_From_Scratch.ipynb\" target=\"_parent\"><img src=\"https://colab.research.google.com/assets/colab-badge.svg\" alt=\"Open In Colab\"/></a>"
      ]
    },
    {
      "cell_type": "code",
      "execution_count": 2,
      "metadata": {
        "id": "H7ys5x2Zjw4g"
      },
      "outputs": [],
      "source": [
        "# Building Nerual Network\n",
        "import torch\n",
        "import torch.nn.functional as F\n",
        "from torchvision import datasets, transforms\n",
        "import matplotlib.pyplot as plt\n",
        "from torch.utils.data  import DataLoader\n"
      ]
    },
    {
      "cell_type": "code",
      "source": [
        "transform = transforms.Compose([transforms.ToTensor()])\n",
        "train_dataset = datasets.MNIST('data',download=True,train=True,transform = transform)\n",
        "test_dataset = datasets.MNIST('data',download=True,train=False,transform=transform)\n",
        "\n",
        "train_loader = DataLoader(train_dataset,batch_size=64,shuffle=True)\n",
        "test_loader = DataLoader(test_dataset,batch_size=1000,shuffle=False)"
      ],
      "metadata": {
        "colab": {
          "base_uri": "https://localhost:8080/"
        },
        "id": "qA_CSuh1kqhu",
        "outputId": "422e4dd2-2b05-4d2c-f90f-fb82ff64b96e"
      },
      "execution_count": 3,
      "outputs": [
        {
          "output_type": "stream",
          "name": "stderr",
          "text": [
            "100%|██████████| 9.91M/9.91M [00:00<00:00, 12.8MB/s]\n",
            "100%|██████████| 28.9k/28.9k [00:00<00:00, 345kB/s]\n",
            "100%|██████████| 1.65M/1.65M [00:00<00:00, 3.19MB/s]\n",
            "100%|██████████| 4.54k/4.54k [00:00<00:00, 7.48MB/s]\n"
          ]
        }
      ]
    },
    {
      "cell_type": "code",
      "source": [
        "# Initialization of parameters\n",
        "torch.manual_seed(42)\n",
        "w1 = torch.randn(784,128) * 0.1\n",
        "w1.requires_grad_(True)\n",
        "b1 = torch.zeros(128)\n",
        "b1.requires_grad_(True)\n",
        "w2 = torch.randn(128,10)\n",
        "w2.requires_grad_(True)\n",
        "b2 = torch.zeros(10)\n",
        "b2.requires_grad_(True)\n",
        "learning_rate = 0.01"
      ],
      "metadata": {
        "id": "Zc2QqAjHmFTY"
      },
      "execution_count": 6,
      "outputs": []
    },
    {
      "cell_type": "code",
      "source": [
        "# forward pass\n",
        "def forward(x):\n",
        "  global w1,w2,b1,b2,learning_rate\n",
        "  z1 = torch.matmul(x,w1) + b1\n",
        "  a1 = F.relu(z1)\n",
        "\n",
        "  z2 = torch.matmul(a1,w2) + b2\n",
        "  return z2\n"
      ],
      "metadata": {
        "id": "VsID-Dfjm9Dm"
      },
      "execution_count": 7,
      "outputs": []
    },
    {
      "cell_type": "code",
      "source": [
        "# Single Training epoch\n",
        "def train_epoch():\n",
        "  global w1,w2,b1,b2,learning_rate\n",
        "\n",
        "  total_loss = 0\n",
        "  correct=0\n",
        "  total = 0\n",
        "\n",
        "  for batch_idx, (data,targets) in enumerate(train_loader):\n",
        "    x = data.view(-1,28*28)\n",
        "\n",
        "    # Zero Gradient before backward pass if they exist\n",
        "    for param in [w1,w2,b1,b2]:\n",
        "      if param.grad is not None:\n",
        "        param.grad.zero_()\n",
        "\n",
        "    outputs = forward(x)\n",
        "\n",
        "    # Compute Loss\n",
        "    loss = F.cross_entropy(outputs,targets)\n",
        "\n",
        "    # Backward pass\n",
        "    loss.backward()\n",
        "\n",
        "    # Manual parameter update\n",
        "    with torch.no_grad():\n",
        "      w1.data -= learning_rate * w1.grad\n",
        "      b1.data -= learning_rate * b1.grad\n",
        "      w2.data -= learning_rate * w2.grad\n",
        "      b2.data -= learning_rate * b2.grad\n",
        "    # Track Statistics\n",
        "    total_loss += loss.item()\n",
        "    predictions = outputs.argmax(dim=1)\n",
        "    correct += (predictions == targets).sum().item()\n",
        "    total += targets.size(0)\n",
        "  avg_loss = total_loss / len(train_loader)\n",
        "  accuracy = 100. * correct / total\n",
        "  return avg_loss, accuracy\n",
        ""
      ],
      "metadata": {
        "id": "IpTho6X7r_u_"
      },
      "execution_count": 19,
      "outputs": []
    },
    {
      "cell_type": "code",
      "source": [
        "def test():\n",
        "  global w1,w2,b1,b2,learning_rate\n",
        "\n",
        "  total_loss =0\n",
        "  correct =0\n",
        "  total = 0\n",
        "\n",
        "  with torch.no_grad():\n",
        "    for data,targets in test_loader:\n",
        "      x = data.view(-1,28*28)\n",
        "      outputs = forward(x)\n",
        "\n",
        "      loss = F.cross_entropy(outputs,targets)\n",
        "      total_loss += loss\n",
        "\n",
        "      predictions = outputs.argmax(dim=1)\n",
        "      correct += (predictions == targets).sum().item()\n",
        "      total += targets.size(0)\n",
        "  avg_loss = total_loss / len(test_loader)\n",
        "  accuracy = 100.0 * correct / total\n",
        "  return avg_loss, accuracy"
      ],
      "metadata": {
        "id": "m4yCRuV7yNI3"
      },
      "execution_count": 20,
      "outputs": []
    },
    {
      "cell_type": "code",
      "source": [
        "# Complete Training Loop\n",
        "num_epochs = 5\n",
        "train_losses = []\n",
        "test_accuracies = []\n",
        "\n",
        "print(\"Starting training\")\n",
        "for epoch in range(num_epochs):\n",
        "  print(f\"\\nEpoch {epoch+1} / {num_epochs}\")\n",
        "\n",
        "  train_loss, train_acc = train_epoch()\n",
        "\n",
        "  test_loss, test_acc = test()\n",
        "\n",
        "  train_losses.append(train_loss)\n",
        "  test_accuracies.append(test_acc)\n",
        "  print(f\"Train Loss: {train_loss:.4f}, Train Acc: {train_acc:.4f}\")\n",
        "  print(f\"Test Loss: {test_loss:.4f}, Test Acc: {test_acc:.4f}\")\n",
        "\n"
      ],
      "metadata": {
        "colab": {
          "base_uri": "https://localhost:8080/"
        },
        "collapsed": true,
        "id": "0ndsUEdn0Fwg",
        "outputId": "52114f07-7a73-4bbc-b647-cb08019a3137"
      },
      "execution_count": 21,
      "outputs": [
        {
          "output_type": "stream",
          "name": "stdout",
          "text": [
            "Starting training\n",
            "\n",
            "Epoch 1 / 5\n",
            "Train Loss: 0.6439, Train Acc: 83.4483\n",
            "Test Loss: 0.3264, Test Acc: 90.5600\n",
            "\n",
            "Epoch 2 / 5\n",
            "Train Loss: 0.2935, Train Acc: 91.6233\n",
            "Test Loss: 0.2583, Test Acc: 92.4100\n",
            "\n",
            "Epoch 3 / 5\n",
            "Train Loss: 0.2316, Train Acc: 93.2983\n",
            "Test Loss: 0.2177, Test Acc: 93.7700\n",
            "\n",
            "Epoch 4 / 5\n",
            "Train Loss: 0.1967, Train Acc: 94.2067\n",
            "Test Loss: 0.1992, Test Acc: 94.1600\n",
            "\n",
            "Epoch 5 / 5\n",
            "Train Loss: 0.1739, Train Acc: 94.8667\n",
            "Test Loss: 0.1838, Test Acc: 94.7500\n"
          ]
        }
      ]
    },
    {
      "cell_type": "code",
      "source": [
        "fig, (ax1,ax2) = plt.subplots(1,2,figsize=(12,4))\n",
        "ax1.plot(train_losses)\n",
        "ax1.set_title(\"Training loss\")\n",
        "ax1.set_xlabel('Epochs')\n",
        "ax1.set_ylabel('Loss')\n",
        "\n",
        "ax2.plot(test_accuracies)\n",
        "ax2.set_title(\"Test Accuracy\")\n",
        "ax2.set_xlabel('Epochs')\n",
        "ax2.set_ylabel('Accuracy %')"
      ],
      "metadata": {
        "colab": {
          "base_uri": "https://localhost:8080/",
          "height": 268
        },
        "id": "CGkbgZzP3wdr",
        "outputId": "520adec4-56d7-4d7f-d776-5e07b825dda0"
      },
      "execution_count": 22,
      "outputs": [
        {
          "output_type": "execute_result",
          "data": {
            "text/plain": [
              "Text(0, 0.5, 'Accuracy %')"
            ]
          },
          "metadata": {},
          "execution_count": 22
        },
        {
          "output_type": "display_data",
          "data": {
            "text/plain": [
              "<Figure size 1200x400 with 2 Axes>"
            ],
            "image/png": "[encoded data removed]"
          },
          "metadata": {}
        }
      ]
    },
    {
      "cell_type": "code",
      "source": [],
      "metadata": {
        "id": "UsQ0ubj45wsU"
      },
      "execution_count": null,
      "outputs": []
    }
  ]
}
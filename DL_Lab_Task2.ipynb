{
  "nbformat": 4,
  "nbformat_minor": 0,
  "metadata": {
    "colab": {
      "provenance": [],
      "gpuType": "T4",
      "authorship_tag": "ABX9TyP+8/KsgfCGfGlLhxdRbi1/",
      "include_colab_link": true
    },
    "kernelspec": {
      "name": "python3",
      "display_name": "Python 3"
    },
    "language_info": {
      "name": "python"
    },
    "accelerator": "GPU"
  },
  "cells": [
    {
      "cell_type": "markdown",
      "metadata": {
        "id": "view-in-github",
        "colab_type": "text"
      },
      "source": [
        "<a href=\"https://colab.research.google.com/github/yawar-Ayub/Business-Card/blob/master/DL_Lab_Task2.ipynb\" target=\"_parent\"><img src=\"https://colab.research.google.com/assets/colab-badge.svg\" alt=\"Open In Colab\"/></a>"
      ]
    },
    {
      "cell_type": "code",
      "execution_count": 1,
      "metadata": {
        "colab": {
          "base_uri": "https://localhost:8080/"
        },
        "id": "YQRD3-xe6Wdb",
        "outputId": "0336ed2c-cb48-48ca-d088-c39f29ea4407"
      },
      "outputs": [
        {
          "output_type": "stream",
          "name": "stdout",
          "text": [
            "using device: cuda\n"
          ]
        }
      ],
      "source": [
        "# Goal Build Task1 using Pytorch Proper classes\n",
        "import torch\n",
        "import torch.nn as nn\n",
        "import torch.optim as optim\n",
        "from torchvision import datasets, transforms\n",
        "import matplotlib.pyplot as plt\n",
        "\n",
        "device = torch.device('cuda' if torch.cuda.is_available() else 'cpu')\n",
        "print(f\"using device: {device}\")"
      ]
    },
    {
      "cell_type": "code",
      "source": [
        "transform = transforms.Compose(\n",
        "    [transforms.ToTensor()]\n",
        ")\n",
        "train_dataset = datasets.MNIST(\n",
        "    root=\"/data\",\n",
        "    download=True,\n",
        "    train=True,\n",
        "    transform = transform\n",
        "    )\n",
        "test_dataset = datasets.MNIST(\n",
        "    root=\"/data\",\n",
        "    download=True,\n",
        "    train=False,\n",
        "    transform=transform\n",
        ")\n",
        "\n",
        "train_loader = torch.utils.data.DataLoader(dataset = train_dataset,\n",
        "                                           batch_size=64,\n",
        "                                           shuffle=True)\n",
        "test_loader = torch.utils.data.DataLoader(\n",
        "    dataset=test_dataset,\n",
        "    batch_size=1000,\n",
        "    shuffle=True,\n",
        ")\n",
        "\n",
        "print(f\"\\nTraining Examples : {len(train_dataset)}\")\n",
        "print(f\"Test Examples: {len(test_dataset)}\")\n",
        "print(f\"Number of Training batches: {len(train_loader)}\")  # 938 (60000/64)\n",
        "print(f\"Number of Test batches: {len(test_loader)}\")       # 10 (10000/1000)\n"
      ],
      "metadata": {
        "colab": {
          "base_uri": "https://localhost:8080/"
        },
        "id": "SNsl3UEh7cJ7",
        "outputId": "9628e52d-fb69-4709-f7ba-4e1cc61ed52a"
      },
      "execution_count": 2,
      "outputs": [
        {
          "output_type": "stream",
          "name": "stderr",
          "text": [
            "100%|██████████| 9.91M/9.91M [00:00<00:00, 17.8MB/s]\n",
            "100%|██████████| 28.9k/28.9k [00:00<00:00, 483kB/s]\n",
            "100%|██████████| 1.65M/1.65M [00:00<00:00, 4.52MB/s]\n",
            "100%|██████████| 4.54k/4.54k [00:00<00:00, 9.03MB/s]"
          ]
        },
        {
          "output_type": "stream",
          "name": "stdout",
          "text": [
            "\n",
            "Training Examples : 60000\n",
            "Test Examples: 10000\n",
            "Number of Training batches: 938\n",
            "Number of Test batches: 10\n"
          ]
        },
        {
          "output_type": "stream",
          "name": "stderr",
          "text": [
            "\n"
          ]
        }
      ]
    },
    {
      "cell_type": "code",
      "source": [
        "# Define the Neural Network Class\n",
        "# Neural Network Definition\n",
        "\n",
        "class NeuralNetwork(nn.Module):\n",
        "  \"\"\"\n",
        "  2-layer fully connected neural network\n",
        "\n",
        "  Architecture:\n",
        "  Input (784) -> Linear -> ReLU -> Linear -> Output (10)\n",
        "\n",
        "  This is the Standard PyTorch Pattern:\n",
        "  1. Inherit from nn.Module\n",
        "  2. Define layers in __init__\n",
        "  3. Define forward pass in forward()\n",
        "  \"\"\"\n",
        "  def __init__(self,input_size,hidden_size,num_classes):\n",
        "    \"\"\"\n",
        "    Initialize the network layers\n",
        "\n",
        "    Args:\n",
        "      input_size: Number of input features (784 for flatten 28*28)\n",
        "      hidden_size: Number of neurons in hidden layer (128)\n",
        "      num_classes: Number of output classes (10 for digits)\n",
        "    \"\"\"\n",
        "    # Critical: Always call parent class constructor first\n",
        "    # This registers the model with PyTorch's module system\n",
        "    super(NeuralNetwork,self).__init__()\n",
        "\n",
        "    # Define layer 1: Input -> Hidden\n",
        "    # nn.Linear automatically creates weights and biases\n",
        "    # Weight shape: (input_size,hidden_size) = (784,128)\n",
        "    # Bias shape: (hiddensize,) = (128,)\n",
        "    # Both are initialized automatically using Kaiming initialization\n",
        "    self.fc1 = nn.Linear(input_size, hidden_size)\n",
        "\n",
        "    # ReLU activation (no parameters to learn)\n",
        "    # could also use : nn.Sigmoid(), nn.Tanh(), nn.LeakyReLU, etc.\n",
        "    self.relu = nn.ReLU()\n",
        "\n",
        "    # Define layer 2: Hidden -> Output\n",
        "    # Weight shape: (hidden_size, num_classes) = (128,10)\n",
        "    # Bias shape: (num_classes,) = (10,)\n",
        "    self.fc2 = nn.Linear(hidden_size,num_classes)\n",
        "    # Note : We Dont add softmax here!\n",
        "    # nn.CrossEntropyLoss() applies softmax internally\n",
        "  def forward(self,x):\n",
        "    \"\"\"\n",
        "    Forward pass: defines how data flows through the network\n",
        "\n",
        "    Args:\n",
        "      x: Input tensor, shape (batch_size, input_size)\n",
        "        Example: (64,784) for batch of 64 flattened images\n",
        "\n",
        "    Returns:\n",
        "    out: Output logits, shape(batch_size,num_classes)\n",
        "         Example: (64,10) - raw scores for each class\n",
        "\n",
        "    This method is called when you do: output = model(input)\n",
        "    pyTorch automatically handles backward pass (gradients)\n",
        "    \"\"\"\n",
        "    # Layer 1: Linear Transformation\n",
        "    # Input: (batch_size,784)\n",
        "    #output: (batch_size,128)\n",
        "    #Operation: x@w1.T + b1\n",
        "    out = self.fc1(x)\n",
        "\n",
        "    # Activation: ReLU (element-wise)\n",
        "    # Input: (batch_size,128)\n",
        "    # Output: (batch_size,128)\n",
        "    # Operation: x @ w1.T +b1\n",
        "    out = self.relu(out)\n",
        "\n",
        "    # Layer2 : Linear transformation\n",
        "    # Input : (batch_size,128)\n",
        "    # Output: (batch_size,10)\n",
        "    # Operation out@w2.T + b2\n",
        "\n",
        "    out = self.fc2(out)\n",
        "\n",
        "    return out\n",
        "\n",
        "# Create model instance\n",
        "# Input: 784 pixels, Hidden: 128 neurons, Output: 10 classes\n",
        "model = NeuralNetwork(input_size=28*28,hidden_size=128,num_classes=10)\n",
        "\n",
        "# Move model to device (GPU or CPU)\n",
        "model = model.to(device)\n",
        "\n",
        "# Print the model Architecture\n",
        "print(model)\n",
        "print(f\"\\n Total parameters: {sum(p.numel() for p in model.parameters())} \")\n"
      ],
      "metadata": {
        "colab": {
          "base_uri": "https://localhost:8080/"
        },
        "id": "OHiiFrqD9hRs",
        "outputId": "adfb9d62-f130-4150-afef-ca2295f4b80a"
      },
      "execution_count": 4,
      "outputs": [
        {
          "output_type": "stream",
          "name": "stdout",
          "text": [
            "NeuralNetwork(\n",
            "  (fc1): Linear(in_features=784, out_features=128, bias=True)\n",
            "  (relu): ReLU()\n",
            "  (fc2): Linear(in_features=128, out_features=10, bias=True)\n",
            ")\n",
            "\n",
            " Total parameters: 101770 \n"
          ]
        }
      ]
    },
    {
      "cell_type": "code",
      "source": [
        "#       Key Concepts\n",
        "# 1. nn.Module : Base Class for all neural networks in pytorch\n",
        "# 2. __init__: Where you define all layers (runs once when creating model)\n",
        "# 3. forward(): Where you define data flow (runs every time you pass data through)\n",
        "# 4. nn.Linear(in,out): Fully connected layer with weight and biases"
      ],
      "metadata": {
        "id": "U9-f10Z3Eeu7"
      },
      "execution_count": 5,
      "outputs": []
    },
    {
      "cell_type": "code",
      "source": [
        "# Step 4: Define Loss Function and Optimizer\n",
        "# Loss Function : measures how wrong the predictions are\n",
        "# CrossEntropyLoss combines:\n",
        "# 1. softmax (converts logits to probabilities)\n",
        "# 2. Negative Log Likelihood (compares with true labels)\n",
        "# Input : (batch_size,num_classes) logits and (batch_size,) targets\n",
        "# Output : scaler loss Value\n",
        "criterion = nn.CrossEntropyLoss()\n",
        "\n",
        "# Optimizer: updates model parameters to minimize loss\n",
        "# SGD (Stochastic Gradient Descent) is the basic optimizer\n",
        "# Parameters:\n",
        "# - model.parameters(): all weights and biases in the model\n",
        "# -lr: learning rate (how big the update steps are)\n",
        "# -momentum: adds \"velocity\" to updates (helps escape local minima)\n",
        "\n",
        "optimizer = optim.SGD(\n",
        "    model.parameters(), # which paramters to optimize\n",
        "    lr = 0.01,          # Learning rate (try 0.001, 0.01, 0.1)\n",
        "    momentum = 0.9      # Momentum factor ( 0.9 is standard, try 0.0 - 0.99)\n",
        "\n",
        "    )\n",
        "\n",
        "# Alternative optimizers you can try:\n",
        "# optimizer = optim.Adam(model.parameters(),lr=0.01) # Adaptive learning rate\n",
        "# optimizer = optim.RMSprop(model.parameters(), lr=0.01) # Good for RNNs\n",
        "print(\"\\nOptimizer: \",optimizer)\n",
        "print(\"Loss Function\",criterion)"
      ],
      "metadata": {
        "colab": {
          "base_uri": "https://localhost:8080/"
        },
        "id": "o2oIGLWAEere",
        "outputId": "71a2221b-90e4-4b29-a892-138c5136e634"
      },
      "execution_count": 6,
      "outputs": [
        {
          "output_type": "stream",
          "name": "stdout",
          "text": [
            "\n",
            "Optimizer:  SGD (\n",
            "Parameter Group 0\n",
            "    dampening: 0\n",
            "    differentiable: False\n",
            "    foreach: None\n",
            "    fused: None\n",
            "    lr: 0.01\n",
            "    maximize: False\n",
            "    momentum: 0.9\n",
            "    nesterov: False\n",
            "    weight_decay: 0\n",
            ")\n",
            "Loss Function CrossEntropyLoss()\n"
          ]
        }
      ]
    },
    {
      "cell_type": "code",
      "source": [],
      "metadata": {
        "id": "Nkf1s5rjEebf"
      },
      "execution_count": null,
      "outputs": []
    },
    {
      "cell_type": "code",
      "source": [
        "# Step 5 : Training Function\n",
        "def train_one_epoch(model,train_loader,criterion,optimizer,device):\n",
        "  \"\"\"\n",
        "  Train the model for one complete pass through the training data\n",
        "\n",
        "  Args:\n",
        "    model: Neural network to train\n",
        "    train_loader: DataLoader with training data\n",
        "    Criterion: Loss function\n",
        "    optimer: Optimization algorithm\n",
        "    device: 'cuda' or 'cpu'\n",
        "\n",
        "  Returns :\n",
        "    avg_loss: Average loss across all batches\n",
        "    accuracy: Training accuracy (percentage)\n",
        "    \"\"\""
      ],
      "metadata": {
        "id": "yOzZYliOEdyt"
      },
      "execution_count": null,
      "outputs": []
    }
  ]
}